{
 "cells": [
  {
   "cell_type": "code",
   "execution_count": 1,
   "metadata": {},
   "outputs": [
    {
     "name": "stdout",
     "output_type": "stream",
     "text": [
      "Requirement already satisfied: azure-identity==1.13.0b4 in /opt/homebrew/anaconda3/lib/python3.11/site-packages (from -r requirements.txt (line 1)) (1.13.0b4)\n",
      "Requirement already satisfied: azure-search-documents==11.4.0b3 in /opt/homebrew/anaconda3/lib/python3.11/site-packages (from -r requirements.txt (line 2)) (11.4.0b3)\n",
      "Requirement already satisfied: azure-ai-formrecognizer==3.2.1 in /opt/homebrew/anaconda3/lib/python3.11/site-packages (from -r requirements.txt (line 3)) (3.2.1)\n",
      "Requirement already satisfied: azure-storage-blob==12.14.1 in /opt/homebrew/anaconda3/lib/python3.11/site-packages (from -r requirements.txt (line 4)) (12.14.1)\n",
      "Requirement already satisfied: openai in /opt/homebrew/anaconda3/lib/python3.11/site-packages (from -r requirements.txt (line 5)) (1.14.2)\n",
      "Requirement already satisfied: streamlit in /opt/homebrew/anaconda3/lib/python3.11/site-packages (from -r requirements.txt (line 6)) (1.30.0)\n",
      "Requirement already satisfied: python-dotenv in /opt/homebrew/anaconda3/lib/python3.11/site-packages (from -r requirements.txt (line 7)) (0.21.0)\n",
      "Requirement already satisfied: pdfminer.six in /opt/homebrew/anaconda3/lib/python3.11/site-packages (from -r requirements.txt (line 8)) (20231228)\n",
      "Requirement already satisfied: azure-core<2.0.0,>=1.11.0 in /opt/homebrew/anaconda3/lib/python3.11/site-packages (from azure-identity==1.13.0b4->-r requirements.txt (line 1)) (1.30.1)\n",
      "Requirement already satisfied: cryptography>=2.5 in /opt/homebrew/anaconda3/lib/python3.11/site-packages (from azure-identity==1.13.0b4->-r requirements.txt (line 1)) (42.0.2)\n",
      "Requirement already satisfied: msal<2.0.0,>=1.20.0 in /opt/homebrew/anaconda3/lib/python3.11/site-packages (from azure-identity==1.13.0b4->-r requirements.txt (line 1)) (1.28.0)\n",
      "Requirement already satisfied: msal-extensions<2.0.0,>=0.3.0 in /opt/homebrew/anaconda3/lib/python3.11/site-packages (from azure-identity==1.13.0b4->-r requirements.txt (line 1)) (1.1.0)\n",
      "Requirement already satisfied: six>=1.12.0 in /opt/homebrew/anaconda3/lib/python3.11/site-packages (from azure-identity==1.13.0b4->-r requirements.txt (line 1)) (1.16.0)\n",
      "Requirement already satisfied: azure-common~=1.1 in /opt/homebrew/anaconda3/lib/python3.11/site-packages (from azure-search-documents==11.4.0b3->-r requirements.txt (line 2)) (1.1.28)\n",
      "Requirement already satisfied: isodate>=0.6.0 in /opt/homebrew/anaconda3/lib/python3.11/site-packages (from azure-search-documents==11.4.0b3->-r requirements.txt (line 2)) (0.6.1)\n",
      "Requirement already satisfied: msrest>=0.6.21 in /opt/homebrew/anaconda3/lib/python3.11/site-packages (from azure-ai-formrecognizer==3.2.1->-r requirements.txt (line 3)) (0.7.1)\n",
      "Requirement already satisfied: typing-extensions>=4.0.1 in /opt/homebrew/anaconda3/lib/python3.11/site-packages (from azure-ai-formrecognizer==3.2.1->-r requirements.txt (line 3)) (4.9.0)\n",
      "Requirement already satisfied: anyio<5,>=3.5.0 in /opt/homebrew/anaconda3/lib/python3.11/site-packages (from openai->-r requirements.txt (line 5)) (4.2.0)\n",
      "Requirement already satisfied: distro<2,>=1.7.0 in /opt/homebrew/anaconda3/lib/python3.11/site-packages (from openai->-r requirements.txt (line 5)) (1.8.0)\n",
      "Requirement already satisfied: httpx<1,>=0.23.0 in /opt/homebrew/anaconda3/lib/python3.11/site-packages (from openai->-r requirements.txt (line 5)) (0.27.0)\n",
      "Requirement already satisfied: pydantic<3,>=1.9.0 in /opt/homebrew/anaconda3/lib/python3.11/site-packages (from openai->-r requirements.txt (line 5)) (1.10.12)\n",
      "Requirement already satisfied: sniffio in /opt/homebrew/anaconda3/lib/python3.11/site-packages (from openai->-r requirements.txt (line 5)) (1.3.0)\n",
      "Requirement already satisfied: tqdm>4 in /opt/homebrew/anaconda3/lib/python3.11/site-packages (from openai->-r requirements.txt (line 5)) (4.65.0)\n",
      "Requirement already satisfied: altair<6,>=4.0 in /opt/homebrew/anaconda3/lib/python3.11/site-packages (from streamlit->-r requirements.txt (line 6)) (5.0.1)\n",
      "Requirement already satisfied: blinker<2,>=1.0.0 in /opt/homebrew/anaconda3/lib/python3.11/site-packages (from streamlit->-r requirements.txt (line 6)) (1.6.2)\n",
      "Requirement already satisfied: cachetools<6,>=4.0 in /opt/homebrew/anaconda3/lib/python3.11/site-packages (from streamlit->-r requirements.txt (line 6)) (4.2.2)\n",
      "Requirement already satisfied: click<9,>=7.0 in /opt/homebrew/anaconda3/lib/python3.11/site-packages (from streamlit->-r requirements.txt (line 6)) (8.1.7)\n",
      "Requirement already satisfied: importlib-metadata<8,>=1.4 in /opt/homebrew/anaconda3/lib/python3.11/site-packages (from streamlit->-r requirements.txt (line 6)) (7.0.1)\n",
      "Requirement already satisfied: numpy<2,>=1.19.3 in /opt/homebrew/anaconda3/lib/python3.11/site-packages (from streamlit->-r requirements.txt (line 6)) (1.26.4)\n",
      "Requirement already satisfied: packaging<24,>=16.8 in /opt/homebrew/anaconda3/lib/python3.11/site-packages (from streamlit->-r requirements.txt (line 6)) (23.1)\n",
      "Requirement already satisfied: pandas<3,>=1.3.0 in /opt/homebrew/anaconda3/lib/python3.11/site-packages (from streamlit->-r requirements.txt (line 6)) (2.1.4)\n",
      "Requirement already satisfied: pillow<11,>=7.1.0 in /opt/homebrew/anaconda3/lib/python3.11/site-packages (from streamlit->-r requirements.txt (line 6)) (10.2.0)\n",
      "Requirement already satisfied: protobuf<5,>=3.20 in /opt/homebrew/anaconda3/lib/python3.11/site-packages (from streamlit->-r requirements.txt (line 6)) (3.20.3)\n",
      "Requirement already satisfied: pyarrow>=6.0 in /opt/homebrew/anaconda3/lib/python3.11/site-packages (from streamlit->-r requirements.txt (line 6)) (14.0.2)\n",
      "Requirement already satisfied: python-dateutil<3,>=2.7.3 in /opt/homebrew/anaconda3/lib/python3.11/site-packages (from streamlit->-r requirements.txt (line 6)) (2.8.2)\n",
      "Requirement already satisfied: requests<3,>=2.27 in /opt/homebrew/anaconda3/lib/python3.11/site-packages (from streamlit->-r requirements.txt (line 6)) (2.31.0)\n",
      "Requirement already satisfied: rich<14,>=10.14.0 in /opt/homebrew/anaconda3/lib/python3.11/site-packages (from streamlit->-r requirements.txt (line 6)) (13.3.5)\n",
      "Requirement already satisfied: tenacity<9,>=8.1.0 in /opt/homebrew/anaconda3/lib/python3.11/site-packages (from streamlit->-r requirements.txt (line 6)) (8.2.2)\n",
      "Requirement already satisfied: toml<2,>=0.10.1 in /opt/homebrew/anaconda3/lib/python3.11/site-packages (from streamlit->-r requirements.txt (line 6)) (0.10.2)\n",
      "Requirement already satisfied: tzlocal<6,>=1.1 in /opt/homebrew/anaconda3/lib/python3.11/site-packages (from streamlit->-r requirements.txt (line 6)) (2.1)\n",
      "Requirement already satisfied: validators<1,>=0.2 in /opt/homebrew/anaconda3/lib/python3.11/site-packages (from streamlit->-r requirements.txt (line 6)) (0.18.2)\n",
      "Requirement already satisfied: gitpython!=3.1.19,<4,>=3.0.7 in /opt/homebrew/anaconda3/lib/python3.11/site-packages (from streamlit->-r requirements.txt (line 6)) (3.1.37)\n",
      "Requirement already satisfied: pydeck<1,>=0.8.0b4 in /opt/homebrew/anaconda3/lib/python3.11/site-packages (from streamlit->-r requirements.txt (line 6)) (0.8.0)\n",
      "Requirement already satisfied: tornado<7,>=6.0.3 in /opt/homebrew/anaconda3/lib/python3.11/site-packages (from streamlit->-r requirements.txt (line 6)) (6.3.3)\n",
      "Requirement already satisfied: charset-normalizer>=2.0.0 in /opt/homebrew/anaconda3/lib/python3.11/site-packages (from pdfminer.six->-r requirements.txt (line 8)) (2.0.4)\n",
      "Requirement already satisfied: jinja2 in /opt/homebrew/anaconda3/lib/python3.11/site-packages (from altair<6,>=4.0->streamlit->-r requirements.txt (line 6)) (3.1.3)\n",
      "Requirement already satisfied: jsonschema>=3.0 in /opt/homebrew/anaconda3/lib/python3.11/site-packages (from altair<6,>=4.0->streamlit->-r requirements.txt (line 6)) (4.19.2)\n",
      "Requirement already satisfied: toolz in /opt/homebrew/anaconda3/lib/python3.11/site-packages (from altair<6,>=4.0->streamlit->-r requirements.txt (line 6)) (0.12.0)\n",
      "Requirement already satisfied: idna>=2.8 in /opt/homebrew/anaconda3/lib/python3.11/site-packages (from anyio<5,>=3.5.0->openai->-r requirements.txt (line 5)) (3.4)\n",
      "Requirement already satisfied: cffi>=1.12 in /opt/homebrew/anaconda3/lib/python3.11/site-packages (from cryptography>=2.5->azure-identity==1.13.0b4->-r requirements.txt (line 1)) (1.16.0)\n",
      "Requirement already satisfied: gitdb<5,>=4.0.1 in /opt/homebrew/anaconda3/lib/python3.11/site-packages (from gitpython!=3.1.19,<4,>=3.0.7->streamlit->-r requirements.txt (line 6)) (4.0.7)\n",
      "Requirement already satisfied: certifi in /opt/homebrew/anaconda3/lib/python3.11/site-packages (from httpx<1,>=0.23.0->openai->-r requirements.txt (line 5)) (2024.2.2)\n",
      "Requirement already satisfied: httpcore==1.* in /opt/homebrew/anaconda3/lib/python3.11/site-packages (from httpx<1,>=0.23.0->openai->-r requirements.txt (line 5)) (1.0.4)\n",
      "Requirement already satisfied: h11<0.15,>=0.13 in /opt/homebrew/anaconda3/lib/python3.11/site-packages (from httpcore==1.*->httpx<1,>=0.23.0->openai->-r requirements.txt (line 5)) (0.14.0)\n",
      "Requirement already satisfied: zipp>=0.5 in /opt/homebrew/anaconda3/lib/python3.11/site-packages (from importlib-metadata<8,>=1.4->streamlit->-r requirements.txt (line 6)) (3.17.0)\n",
      "Requirement already satisfied: PyJWT<3,>=1.0.0 in /opt/homebrew/anaconda3/lib/python3.11/site-packages (from PyJWT[crypto]<3,>=1.0.0->msal<2.0.0,>=1.20.0->azure-identity==1.13.0b4->-r requirements.txt (line 1)) (2.4.0)\n",
      "Requirement already satisfied: portalocker<3,>=1.0 in /opt/homebrew/anaconda3/lib/python3.11/site-packages (from msal-extensions<2.0.0,>=0.3.0->azure-identity==1.13.0b4->-r requirements.txt (line 1)) (2.8.2)\n",
      "Requirement already satisfied: requests-oauthlib>=0.5.0 in /opt/homebrew/anaconda3/lib/python3.11/site-packages (from msrest>=0.6.21->azure-ai-formrecognizer==3.2.1->-r requirements.txt (line 3)) (2.0.0)\n",
      "Requirement already satisfied: pytz>=2020.1 in /opt/homebrew/anaconda3/lib/python3.11/site-packages (from pandas<3,>=1.3.0->streamlit->-r requirements.txt (line 6)) (2023.3.post1)\n",
      "Requirement already satisfied: tzdata>=2022.1 in /opt/homebrew/anaconda3/lib/python3.11/site-packages (from pandas<3,>=1.3.0->streamlit->-r requirements.txt (line 6)) (2023.3)\n",
      "Requirement already satisfied: urllib3<3,>=1.21.1 in /opt/homebrew/anaconda3/lib/python3.11/site-packages (from requests<3,>=2.27->streamlit->-r requirements.txt (line 6)) (2.0.7)\n",
      "Requirement already satisfied: markdown-it-py<3.0.0,>=2.2.0 in /opt/homebrew/anaconda3/lib/python3.11/site-packages (from rich<14,>=10.14.0->streamlit->-r requirements.txt (line 6)) (2.2.0)\n",
      "Requirement already satisfied: pygments<3.0.0,>=2.13.0 in /opt/homebrew/anaconda3/lib/python3.11/site-packages (from rich<14,>=10.14.0->streamlit->-r requirements.txt (line 6)) (2.15.1)\n",
      "Requirement already satisfied: decorator>=3.4.0 in /opt/homebrew/anaconda3/lib/python3.11/site-packages (from validators<1,>=0.2->streamlit->-r requirements.txt (line 6)) (5.1.1)\n",
      "Requirement already satisfied: pycparser in /opt/homebrew/anaconda3/lib/python3.11/site-packages (from cffi>=1.12->cryptography>=2.5->azure-identity==1.13.0b4->-r requirements.txt (line 1)) (2.21)\n",
      "Requirement already satisfied: smmap<5,>=3.0.1 in /opt/homebrew/anaconda3/lib/python3.11/site-packages (from gitdb<5,>=4.0.1->gitpython!=3.1.19,<4,>=3.0.7->streamlit->-r requirements.txt (line 6)) (4.0.0)\n",
      "Requirement already satisfied: MarkupSafe>=2.0 in /opt/homebrew/anaconda3/lib/python3.11/site-packages (from jinja2->altair<6,>=4.0->streamlit->-r requirements.txt (line 6)) (2.1.3)\n",
      "Requirement already satisfied: attrs>=22.2.0 in /opt/homebrew/anaconda3/lib/python3.11/site-packages (from jsonschema>=3.0->altair<6,>=4.0->streamlit->-r requirements.txt (line 6)) (23.1.0)\n",
      "Requirement already satisfied: jsonschema-specifications>=2023.03.6 in /opt/homebrew/anaconda3/lib/python3.11/site-packages (from jsonschema>=3.0->altair<6,>=4.0->streamlit->-r requirements.txt (line 6)) (2023.7.1)\n",
      "Requirement already satisfied: referencing>=0.28.4 in /opt/homebrew/anaconda3/lib/python3.11/site-packages (from jsonschema>=3.0->altair<6,>=4.0->streamlit->-r requirements.txt (line 6)) (0.30.2)\n",
      "Requirement already satisfied: rpds-py>=0.7.1 in /opt/homebrew/anaconda3/lib/python3.11/site-packages (from jsonschema>=3.0->altair<6,>=4.0->streamlit->-r requirements.txt (line 6)) (0.10.6)\n",
      "Requirement already satisfied: mdurl~=0.1 in /opt/homebrew/anaconda3/lib/python3.11/site-packages (from markdown-it-py<3.0.0,>=2.2.0->rich<14,>=10.14.0->streamlit->-r requirements.txt (line 6)) (0.1.0)\n",
      "Requirement already satisfied: oauthlib>=3.0.0 in /opt/homebrew/anaconda3/lib/python3.11/site-packages (from requests-oauthlib>=0.5.0->msrest>=0.6.21->azure-ai-formrecognizer==3.2.1->-r requirements.txt (line 3)) (3.2.2)\n",
      "Note: you may need to restart the kernel to use updated packages.\n"
     ]
    }
   ],
   "source": [
    "%pip install -r requirements.txt"
   ]
  }
 ],
 "metadata": {
  "kernelspec": {
   "display_name": "azureaisearch_env",
   "language": "python",
   "name": "python3"
  },
  "language_info": {
   "codemirror_mode": {
    "name": "ipython",
    "version": 3
   },
   "file_extension": ".py",
   "mimetype": "text/x-python",
   "name": "python",
   "nbconvert_exporter": "python",
   "pygments_lexer": "ipython3",
   "version": "3.11.7"
  }
 },
 "nbformat": 4,
 "nbformat_minor": 2
}
